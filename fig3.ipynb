{
 "cells": [
  {
   "cell_type": "markdown",
   "metadata": {},
   "source": [
    "# Figure 3\n",
    "\n",
    ">250-kyr simulation of the Earth's orbital decay and engulfment due to dissipative tidal interactions with the Sun.  (Top) $a(t)_\\textrm{pred}$ and $a(t)_\\textrm{sim}$ respectively are the predicted (solid yellow) and simulated (dotted blue) evolutions of Earth's semi-major axis; cf. $R(t)$, the solar radius (red).  (Bottom) A similar setup where Earth's orbital eccentricity (solid blue), initialised to $e_{\\oplus} = 0.03$, dampens over time due to dissipative tides.\n",
    "\n",
    "For more information and additional explanation of the code in this notebook, see the official REBOUNDx effect example documentation for [\"Tides Constant Time Lag\"](https://github.com/dtamayo/reboundx/blob/master/ipython_examples/TidesConstantTimeLag.ipynb)."
   ]
  },
  {
   "cell_type": "markdown",
   "metadata": {},
   "source": [
    "## Setup #1"
   ]
  },
  {
   "cell_type": "code",
   "execution_count": 1,
   "metadata": {},
   "outputs": [],
   "source": [
    "import rebound\n",
    "import reboundx\n",
    "import numpy as np\n",
    "\n",
    "def getsim(e = 0.):                           # pass Earth's init. eccentricity\n",
    "    sim = rebound.Simulation()\n",
    "    sim.units = ('yr', 'AU', 'Msun') \n",
    "    sim.add(m=0.86)                           # post-MS Sun\n",
    "    sim.add(m=3.e-6, a=1., e=e)               # Earth w/ passed eccentricity\n",
    "    sim.move_to_com()\n",
    "    rebx = reboundx.Extras(sim)\n",
    "    tides = rebx.load_force(\"tides_constant_time_lag\")\n",
    "    rebx.add_force(tides)\n",
    "    return sim, rebx, tides"
   ]
  },
  {
   "cell_type": "code",
   "execution_count": 2,
   "metadata": {},
   "outputs": [],
   "source": [
    "sim, rebx, tides = getsim()\n",
    "ps = sim.particles\n",
    "ps[0].r = 0.85 # AU\n",
    "ps[0].params[\"tctl_k2\"] = 0.03\n",
    "ps[0].params[\"tctl_tau\"] = 0.04\n",
    "ps[0].params[\"Omega\"] = 0 # explicitly set to 0 (would be 0 by default)"
   ]
  },
  {
   "cell_type": "markdown",
   "metadata": {},
   "source": [
    "## Run #1"
   ]
  },
  {
   "cell_type": "code",
   "execution_count": 3,
   "metadata": {},
   "outputs": [
    {
     "name": "stdout",
     "output_type": "stream",
     "text": [
      "CPU times: user 1min 29s, sys: 47.6 ms, total: 1min 29s\n",
      "Wall time: 1min 29s\n"
     ]
    }
   ],
   "source": [
    "%%time\n",
    "tmax = 2.5e5\n",
    "Nout = 1000\n",
    "a = np.zeros(Nout)\n",
    "times = np.linspace(0,tmax,Nout)\n",
    "R0 = 0*times + ps[0].r # to plot physical radius of the Sun\n",
    "q = (ps[1].m/ps[0].m)\n",
    "T = ps[0].r**3/sim.G/ps[0].m/ps[0].params[\"tctl_tau\"]\n",
    "apred = ps[0].r*((ps[1].a/ps[0].r)**8 - 48.*ps[0].params[\"tctl_k2\"]*q*(1+q)*times/T)**(1./8.)\n",
    "\n",
    "for i, time in enumerate(times):\n",
    "    sim.integrate(time)\n",
    "    a[i] = ps[1].a"
   ]
  },
  {
   "cell_type": "markdown",
   "metadata": {},
   "source": [
    "## Setup #2\n",
    "Our second setup sets a slight initial eccentricity for Earth."
   ]
  },
  {
   "cell_type": "code",
   "execution_count": 4,
   "metadata": {},
   "outputs": [],
   "source": [
    "sim, rebx, tides = getsim(e = 0.03)\n",
    "ps = sim.particles\n",
    "ps[0].r = 0.85 # AU\n",
    "ps[0].params[\"tctl_k2\"] = 0.03\n",
    "ps[0].params[\"tctl_tau\"] = 0.04\n",
    "ps[0].params[\"Omega\"] = 0 # explicitly set to 0 (would be 0 by default)"
   ]
  },
  {
   "cell_type": "markdown",
   "metadata": {},
   "source": [
    "## Run #2"
   ]
  },
  {
   "cell_type": "code",
   "execution_count": 5,
   "metadata": {},
   "outputs": [
    {
     "name": "stdout",
     "output_type": "stream",
     "text": [
      "CPU times: user 1min 46s, sys: 10 ms, total: 1min 46s\n",
      "Wall time: 1min 46s\n"
     ]
    }
   ],
   "source": [
    "%%time\n",
    "e = np.zeros(Nout)\n",
    "\n",
    "for i, time in enumerate(times):\n",
    "    sim.integrate(time)\n",
    "    e[i] = ps[1].e"
   ]
  },
  {
   "cell_type": "markdown",
   "metadata": {},
   "source": [
    "## Plot"
   ]
  },
  {
   "cell_type": "code",
   "execution_count": 6,
   "metadata": {},
   "outputs": [
    {
     "data": {
      "image/png": "[encoded data removed]",
      "text/plain": [
       "<Figure size 432x360 with 2 Axes>"
      ]
     },
     "metadata": {
      "needs_background": "light"
     },
     "output_type": "display_data"
    }
   ],
   "source": [
    "import matplotlib.pyplot as plt\n",
    "import matplotlib.ticker as mticker\n",
    "\n",
    "fig, (ax1, ax2) = plt.subplots(nrows=2, ncols=1, sharex=True, figsize=(6, 5))\n",
    "fig.subplots_adjust(hspace=0)\n",
    "\n",
    "ax1.plot(times/1e3, apred, lw=2, color='gold', label='$a(t)_{pred}$')\n",
    "ax1.plot(times/1e3, a, ':', lw=2, color='tab:blue', label='$a(t)_{sim}$')\n",
    "ax1.plot(times/1e3, R0, color='tab:red', label='$R(t)$')\n",
    "ax1.set_ylabel('Distance / AU', fontsize='large')\n",
    "ax1.legend(fontsize='medium', loc='best', labelspacing=0.1, framealpha=1.0)\n",
    "ax1.yaxis.set_minor_locator(mticker.AutoMinorLocator())\n",
    "ax1.grid()\n",
    "\n",
    "ax2.set_xlabel('Time / kyr', fontsize='large')\n",
    "ax2.xaxis.set_minor_locator(mticker.AutoMinorLocator())\n",
    "ax2.set_ylabel('Eccentricity, $e$', fontsize='large')\n",
    "ax2.yaxis.set_minor_locator(mticker.AutoMinorLocator())\n",
    "ax2.plot(times/1e3, e)\n",
    "ax2.grid()\n",
    "\n",
    "plt.savefig('img/fig3.eps', bbox_inches='tight', pad_inches=0.01)\n",
    "plt.savefig('img/fig3.pdf', bbox_inches='tight', pad_inches=0.01)\n",
    "plt.savefig('img/fig3.png', bbox_inches='tight', dpi=300)"
   ]
  }
 ],
 "metadata": {
  "kernelspec": {
   "display_name": "REBOUNDx (3.4.0)",
   "language": "python",
   "name": "rebx-3.4.0"
  },
  "language_info": {
   "codemirror_mode": {
    "name": "ipython",
    "version": 3
   },
   "file_extension": ".py",
   "mimetype": "text/x-python",
   "name": "python",
   "nbconvert_exporter": "python",
   "pygments_lexer": "ipython3",
   "version": "3.9.5"
  },
  "widgets": {
   "application/vnd.jupyter.widget-state+json": {
    "state": {},
    "version_major": 2,
    "version_minor": 0
   }
  }
 },
 "nbformat": 4,
 "nbformat_minor": 4
}
