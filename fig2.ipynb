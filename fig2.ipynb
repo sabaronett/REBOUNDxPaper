{
 "cells": [
  {
   "cell_type": "markdown",
   "metadata": {},
   "source": [
    "# Figure 2\n",
    "\n",
    "> Simulated evolution of the Sun's mass and radius (orange solid  curves), and Earth's semi-major axis (blue dashed curve), for approximately 4 Myr before the tip of the RGB phase.  In this test, Earth's orbital radius started exactly at 1 AU.\n",
    "\n",
    "For more information and additional explanation of the code in this notebook, see the official REBOUNDx effect example documentation for [\"Parameter Interpolation\"](https://github.com/dtamayo/reboundx/blob/master/ipython_examples/ParameterInterpolation.ipynb)."
   ]
  },
  {
   "cell_type": "markdown",
   "metadata": {},
   "source": [
    "## Load\n",
    "\n",
    "We first load in the extracted data, exported from MESA log files, as done in [mesa2txt.ipynb](https://github.com/sabaronett/REBOUNDxPaper/blob/master/mesa2txt.ipynb)."
   ]
  },
  {
   "cell_type": "code",
   "execution_count": 1,
   "metadata": {},
   "outputs": [],
   "source": [
    "import numpy as np\n",
    "\n",
    "data = np.loadtxt('m.txt') # return (N, 2) array\n",
    "mtimes = data[:, 0]        # return only 1st col\n",
    "masses = data[:, 1]        # return only 2nd col\n",
    "\n",
    "data = np.loadtxt('r.txt')\n",
    "rtimes = data[:, 0]\n",
    "Rsuns = data[:, 1]         # data in Rsun units\n",
    "\n",
    "# convert Rsun to AU\n",
    "radii = np.zeros(Rsuns.size)\n",
    "for i, r in enumerate(Rsuns):\n",
    "    radii[i] = r * 0.00465047"
   ]
  },
  {
   "cell_type": "markdown",
   "metadata": {},
   "source": [
    "## Setup\n",
    "Next we set up the Sun-Earth system."
   ]
  },
  {
   "cell_type": "code",
   "execution_count": 2,
   "metadata": {
    "scrolled": true
   },
   "outputs": [],
   "source": [
    "import rebound\n",
    "import reboundx\n",
    "\n",
    "M0 = 0.8645388227818771 # initial mass of star\n",
    "R0 = 0.3833838293200158 # initial radius of star\n",
    "\n",
    "def makesim():\n",
    "    sim = rebound.Simulation()\n",
    "    sim.G = 4*np.pi**2               # use units of AU, yrs and solar masses\n",
    "    sim.add(m=M0, r=R0, hash='Star')\n",
    "    sim.add(a=1., hash='Earth')\n",
    "    sim.collision = 'direct'         # check if RGB Sun engulfs Earth\n",
    "    sim.integrator = 'whfast'\n",
    "    sim.dt = 0.1*sim.particles[1].P\n",
    "    sim.move_to_com()\n",
    "    return sim"
   ]
  },
  {
   "cell_type": "markdown",
   "metadata": {},
   "source": [
    "Now we can create an `Interpolator` object for each parameter set and pass the corresponding arrays as arguments."
   ]
  },
  {
   "cell_type": "code",
   "execution_count": 3,
   "metadata": {},
   "outputs": [],
   "source": [
    "sim = makesim()\n",
    "ps = sim.particles\n",
    "rebx = reboundx.Extras(sim)\n",
    "starmass = reboundx.Interpolator(rebx, mtimes, masses, 'spline')\n",
    "starradius = reboundx.Interpolator(rebx, rtimes, radii, 'spline')"
   ]
  },
  {
   "cell_type": "markdown",
   "metadata": {},
   "source": [
    "## Runs\n",
    "\n",
    "We integrate twice for 4 Myr each, updating the primary's mass and radius interpolated at the time between outputs, i.e., $dt_\\textrm{split}$. We interpolate and update 1000 times ($dt_\\textrm{split} = 4000$ yr) in our first run, and then for 10,000 times ($dt_\\textrm{split} = 400$ yr) in our second."
   ]
  },
  {
   "cell_type": "code",
   "execution_count": 4,
   "metadata": {},
   "outputs": [
    {
     "name": "stdout",
     "output_type": "stream",
     "text": [
      "CPU times: user 20.3 s, sys: 14.2 ms, total: 20.3 s\n",
      "Wall time: 20.3 s\n"
     ]
    }
   ],
   "source": [
    "%%time\n",
    "Nout = 1000\n",
    "a1 = np.zeros(Nout)\n",
    "ts1 = np.linspace(0., 4.e6, Nout)\n",
    "T0 = 1.23895e10 # Sun's age at simulation start\n",
    "\n",
    "for i, time in enumerate(ts1):\n",
    "    sim.integrate(time)\n",
    "    ps[0].m = starmass.interpolate(rebx, t=T0+sim.t)\n",
    "    ps[0].r = starradius.interpolate(rebx, t=T0+sim.t)\n",
    "    sim.move_to_com() # lost mass had momentum, so need to move back to COM frame\n",
    "    a1[i] = sim.particles[1].a"
   ]
  },
  {
   "cell_type": "code",
   "execution_count": 5,
   "metadata": {},
   "outputs": [
    {
     "name": "stdout",
     "output_type": "stream",
     "text": [
      "CPU times: user 18.9 s, sys: 20 ms, total: 18.9 s\n",
      "Wall time: 18.9 s\n"
     ]
    }
   ],
   "source": [
    "%%time\n",
    "# reset sim\n",
    "sim = makesim()\n",
    "ps = sim.particles\n",
    "rebx = reboundx.Extras(sim)\n",
    "starmass = reboundx.Interpolator(rebx, mtimes, masses, 'spline')\n",
    "starradius = reboundx.Interpolator(rebx, rtimes, radii, 'spline')\n",
    "\n",
    "Nout = 10000\n",
    "mass = np.zeros(Nout)\n",
    "radius = np.zeros(Nout)\n",
    "a2 = np.zeros(Nout)\n",
    "ts2 = np.linspace(0., 4.e6, Nout)\n",
    "\n",
    "for i, time in enumerate(ts2):\n",
    "    sim.integrate(time)\n",
    "    ps[0].m = starmass.interpolate(rebx, t=T0+sim.t)\n",
    "    ps[0].r = starradius.interpolate(rebx, t=T0+sim.t)\n",
    "    sim.move_to_com() # lost mass had momentum, so need to move back to COM frame\n",
    "    mass[i] = sim.particles[0].m\n",
    "    radius[i] = sim.particles[0].r\n",
    "    a2[i] = sim.particles[1].a"
   ]
  },
  {
   "cell_type": "markdown",
   "metadata": {},
   "source": [
    "## Plot\n",
    "\n",
    "We plot the Sun's mass over time, and a comparison of the Sun's radius and Earth's semi-major axis over time, adjacent to one another."
   ]
  },
  {
   "cell_type": "code",
   "execution_count": 6,
   "metadata": {},
   "outputs": [
    {
     "data": {
      "image/png": "[encoded data removed]",
      "text/plain": [
       "<Figure size 432x360 with 2 Axes>"
      ]
     },
     "metadata": {
      "needs_background": "light"
     },
     "output_type": "display_data"
    }
   ],
   "source": [
    "import matplotlib.pyplot as plt\n",
    "import matplotlib.ticker as mticker\n",
    "\n",
    "fig, (ax1, ax2) = plt.subplots(nrows=2, ncols=1, sharex=True, figsize=(6, 5),\n",
    "                               gridspec_kw={'height_ratios': [1, 3]})\n",
    "fig.subplots_adjust(hspace=0)\n",
    "\n",
    "ax1.set_ylabel(\"$M(t)$ / $M_{\\odot}$\", fontsize='large')\n",
    "ax1.yaxis.set_minor_locator(mticker.AutoMinorLocator())\n",
    "ax1.plot(ts2/1e6,mass, color='tab:red')\n",
    "ax1.grid()\n",
    "\n",
    "ax2.set_xlabel('Time / Myr', fontsize='large')\n",
    "ax2.xaxis.set_minor_locator(mticker.AutoMinorLocator())\n",
    "ax2.set_ylabel('Distance / AU', fontsize='large')\n",
    "ax2.set_ylim([0, 1.6])\n",
    "ax2.yaxis.set_minor_locator(mticker.AutoMinorLocator())\n",
    "\n",
    "ax2.plot(ts2/1e6, a2, lw=2, color='gold',\n",
    "         label='$a(t), dt_{split}=400$ yr')\n",
    "ax2.plot(ts1/1e6, a1, ':', lw=2, color='tab:blue',\n",
    "         label='$a(t), dt_{split}=4000$ yr')\n",
    "ax2.plot(ts2/1e6, radius, color='tab:red', label='$R(t)$')\n",
    "\n",
    "ax2.legend(fontsize='medium', loc='upper left', labelspacing=0.1,\n",
    "           framealpha=1.0)\n",
    "ax2.grid()\n",
    "\n",
    "plt.savefig('img/fig2.eps', bbox_inches='tight', pad_inches=0.01)\n",
    "plt.savefig('img/fig2.pdf', bbox_inches='tight', pad_inches=0.01)"
   ]
  }
 ],
 "metadata": {
  "kernelspec": {
   "display_name": "REBOUNDx (3.1.0)",
   "language": "python",
   "name": "rebx-3.1.0"
  },
  "language_info": {
   "codemirror_mode": {
    "name": "ipython",
    "version": 3
   },
   "file_extension": ".py",
   "mimetype": "text/x-python",
   "name": "python",
   "nbconvert_exporter": "python",
   "pygments_lexer": "ipython3",
   "version": "3.8.3"
  },
  "widgets": {
   "application/vnd.jupyter.widget-state+json": {
    "state": {},
    "version_major": 2,
    "version_minor": 0
   }
  }
 },
 "nbformat": 4,
 "nbformat_minor": 4
}
