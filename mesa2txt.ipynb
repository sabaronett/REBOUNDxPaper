{
 "cells": [
  {
   "cell_type": "markdown",
   "metadata": {},
   "source": [
    "# mesa2txt Tutorial\n",
    "\n",
    "In this tutorial, we will demonstrate how to import a typical \"log\" or \"history\" (`.data`) file from a MESA (Modules for Experiments\n",
    "in Stellar Astrophysics) simulation and export the values of a single property and their corresponding stellar ages to a text (`.txt`) file, which later can easily be loaded into a REBOUNDx simulation for interpolation (see [ParameterInterpolation.ipynb]((http://mesa.sourceforge.net/output.html#where-does-mesa-output-its-data))).\n",
    "\n",
    "## Import\n",
    "We begin by using `mesa_reader` to import a `history.data` into Python. One __major benefit__ of using `mesa_reader`, over alternatives like `numpy.loadtxt` or `numpy.genfromtxt`, is that it _automatically accounts for and removes any redundant lines caused by restarts or backups_ that may have occured during a MESA run (see the \"history.data\" section [here](http://mesa.sourceforge.net/output.html#where-does-mesa-output-its-data) for more information). Thus, using `mesa_reader` and following this tutorial will __ensure the time-series monotonicity__ of your final `.txt` data output."
   ]
  },
  {
   "cell_type": "code",
   "execution_count": 1,
   "metadata": {},
   "outputs": [],
   "source": [
    "import mesa_reader as mr\n",
    "\n",
    "data = mr.MesaData('LOGS/history.data') # typical path to MESA output logs"
   ]
  },
  {
   "cell_type": "markdown",
   "metadata": {},
   "source": [
    "## Isolate\n",
    "\n",
    "Next, we retrieve the specific stellar properties we wish to isolate and export by simply calling its column header, as seen on line 6 of a typical MESA `history.data` file. In the example shown below, we retrieve the stellar age and mass by calling `data.star_age` and `data.star_mass`."
   ]
  },
  {
   "cell_type": "code",
   "execution_count": 2,
   "metadata": {},
   "outputs": [],
   "source": [
    "ages = data.star_age\n",
    "masses = data.star_mass"
   ]
  },
  {
   "cell_type": "markdown",
   "metadata": {},
   "source": [
    "## Export\n",
    "\n",
    "Finally, by calling the function defined below, and passing the relevant parameters, we can export the time-value series data to a `.txt` file consisting of only these two columns separated by a tab (whitespace)."
   ]
  },
  {
   "cell_type": "code",
   "execution_count": 3,
   "metadata": {},
   "outputs": [],
   "source": [
    "def writetxt(ages, values, path='data.txt'):\n",
    "    \"\"\"\n",
    "    Function to output time-value series data to a two-column text file.\n",
    "        \n",
    "    Parameters\n",
    "    ----------\n",
    "    ages : numpy.ndarray\n",
    "        Monotonic array of times (stellar ages) to be written out to the first\n",
    "        column of the data file.\n",
    "    values : numpy.ndarray\n",
    "        Array of values (particular stellar property) to be written out to the\n",
    "        second column of the data file.\n",
    "    path : str\n",
    "        Path and filename of the data file to be outputted.\n",
    "        Default path set to working directory and filename \"data.txt\"\n",
    "    \"\"\"\n",
    "    with open(path, 'w') as f: # will overwrite existing file\n",
    "        for i in range(ages.size):\n",
    "            f.write('%.16E\\t%.16E\\n' % (ages[i], values[i]))"
   ]
  },
  {
   "cell_type": "code",
   "execution_count": 4,
   "metadata": {},
   "outputs": [],
   "source": [
    "writetxt(ages, masses, 'm.txt')"
   ]
  }
 ],
 "metadata": {
  "kernelspec": {
   "display_name": "REBOUNDx (3.1.0)",
   "language": "python",
   "name": "rebx-3.1.0"
  },
  "language_info": {
   "codemirror_mode": {
    "name": "ipython",
    "version": 3
   },
   "file_extension": ".py",
   "mimetype": "text/x-python",
   "name": "python",
   "nbconvert_exporter": "python",
   "pygments_lexer": "ipython3",
   "version": "3.8.3"
  },
  "widgets": {
   "application/vnd.jupyter.widget-state+json": {
    "state": {},
    "version_major": 2,
    "version_minor": 0
   }
  }
 },
 "nbformat": 4,
 "nbformat_minor": 4
}
