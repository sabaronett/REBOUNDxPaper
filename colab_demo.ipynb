{
  "nbformat": 4,
  "nbformat_minor": 0,
  "metadata": {
    "colab": {
      "name": "colab-demo.ipynb",
      "provenance": [],
      "collapsed_sections": [],
      "authorship_tag": "ABX9TyMBRDH96uDdYmCtSoF7/bug",
      "include_colab_link": true
    },
    "kernelspec": {
      "name": "python3",
      "display_name": "Python 3"
    },
    "language_info": {
      "name": "python"
    }
  },
  "cells": [
    {
      "cell_type": "markdown",
      "metadata": {
        "id": "view-in-github",
        "colab_type": "text"
      },
      "source": [
        "<a href=\"https://colab.research.google.com/github/sabaronett/REBOUNDxPaper/blob/master/colab_demo.ipynb\" target=\"_parent\"><img src=\"https://colab.research.google.com/assets/colab-badge.svg\" alt=\"Open In Colab\"/></a>"
      ]
    },
    {
      "cell_type": "markdown",
      "metadata": {
        "id": "YeSGYDJv1ob0"
      },
      "source": [
        "<h1>REBOUNDx Interactive Demo<h1>\n",
        "\n",
        "*This notebook is designed for [Google Colab](https://colab.research.google.com/github/sabaronett/REBOUNDxPaper/blob/master/colab_demo.ipynb); visit [Welcome To Colaboratory](https://colab.research.google.com/notebooks/intro.ipynb) to learn more.*\n",
        "\n",
        "Below are a few quick and interactive demos of **REBOUNDx**'s new features and effects introduced in [*Baronet et al. (2021)*](https://arxiv.org/abs/2101.12277). You can find more resources and example notebooks at our paper's [GitHub repository](https://github.com/sabaronett/REBOUNDxPaper), and at [REBOUND](https://rebound.readthedocs.io/en/latest/) and [REBOUNDx](https://reboundx.readthedocs.io/en/latest/)."
      ]
    },
    {
      "cell_type": "markdown",
      "metadata": {
        "id": "hPEZJUj_4FVv"
      },
      "source": [
        "## Stellar Evolution\n",
        "\n",
        "This example shows how to change a particle's mass by interpolating time-series data during a REBOUND simulation using REBOUNDx.\n",
        "\n",
        "First let's set up a simple Sun-Earth system."
      ]
    },
    {
      "cell_type": "code",
      "metadata": {
        "id": "rBfuxSea-HVX"
      },
      "source": [
        "!pip install -q rebound\n",
        "import rebound\n",
        "\n",
        "def makesim():\n",
        "  sim = rebound.Simulation()        # create simulation object\n",
        "  sim.units = ('yr', 'AU', 'Msun')  # set sim units\n",
        "  sim.add(m=1.)                     # add Sun (1 Msun)\n",
        "  sim.add(a=1.)                     # add Earth at 1 au\n",
        "  sim.integrator = 'whfast'         # set integrator\n",
        "  return sim"
      ],
      "execution_count": null,
      "outputs": []
    },
    {
      "cell_type": "markdown",
      "metadata": {
        "id": "P43eHxwVDFP1"
      },
      "source": [
        "Next let's integrate this system as is for 10,000 years and verify Earth's semi-major axis does not change."
      ]
    },
    {
      "cell_type": "code",
      "metadata": {
        "id": "gnrHbwKsEkJ0"
      },
      "source": [
        "%%time\n",
        "import numpy as np\n",
        "import matplotlib.pyplot as plt\n",
        "\n",
        "sim = makesim()                     # initialize sim\n",
        "ps = sim.particles                  # retrieve array of particle objects\n",
        "Nout = 1000                         # set total # of outputs\n",
        "times = np.linspace(0, 1e4, Nout)   # Nout evenly spaced intervals from 0 to 10K\n",
        "a = np.zeros(Nout)                  # array for Earth's semi-major axis\n",
        "\n",
        "for i, t in enumerate(times):       # loop through times\n",
        "  sim.integrate(t)                  # advance sim to next output time\n",
        "  a[i] = ps[1].a                    # store Earth's current semi-major axis\n",
        "\n",
        "plt.plot(times, a)                  # plot Earth's semi-major axis vs. time\n",
        "plt.xlabel('time / yr')\n",
        "plt.ylabel('semi-major axis / au')\n",
        "plt.ylim(0.5, 3.)\n",
        "plt.show()"
      ],
      "execution_count": null,
      "outputs": []
    },
    {
      "cell_type": "markdown",
      "metadata": {
        "id": "guceILoVL6Zh"
      },
      "source": [
        "Now let's define a time series of the Sun's mass, consisting of just two equal-sized arrays. The following 5 values correspond to an exponential mass loss rate (e-folding timescale) of $10^4$ years. We then create an `Interpolator` object for the parameter set and pass our arrays as arguments. Before moving on, we plot the mass loss data for good measure."
      ]
    },
    {
      "cell_type": "code",
      "metadata": {
        "id": "AXxKnTgQNMuZ"
      },
      "source": [
        "!pip install -q reboundx\n",
        "import reboundx\n",
        "\n",
        "rebx = reboundx.Extras(sim)                            # initialize REBOUNDx\n",
        "mtimes = np.asarray([0, 2500, 5000, 7500, 10000])      # define time series\n",
        "masses = np.asarray([1., 0.77880078307, 0.60653065971, # series of masses\n",
        "                     0.47236655274, 0.36787944117])\n",
        "starmass = reboundx.Interpolator(rebx, mtimes, masses, # create interp. obj.\n",
        "                                 'spline')\n",
        "\n",
        "plt.plot(mtimes, masses, 'o')                          # plot mass loss data\n",
        "plt.xlabel('time / yr')\n",
        "plt.ylabel('mass / Msun')\n",
        "plt.show()"
      ],
      "execution_count": null,
      "outputs": []
    },
    {
      "cell_type": "markdown",
      "metadata": {
        "id": "VmKp8PqwT216"
      },
      "source": [
        "Finally, let's integrate the system again, this time updating the Sun's mass by interpolating at the output intervals."
      ]
    },
    {
      "cell_type": "code",
      "metadata": {
        "id": "5Bgz98g6Uyx8"
      },
      "source": [
        "%%time\n",
        "sim = makesim()                           # reinitialize sim\n",
        "ps = sim.particles                        # retrieve particle array again\n",
        "a = np.zeros(Nout)                        # reinitialize array to zeros\n",
        "\n",
        "for i, t in enumerate(times):\n",
        "  sim.integrate(t)\n",
        "  ps[0].m = starmass.interpolate(rebx, t) # interpolate & update Sun's mass\n",
        "  a[i] = ps[1].a\n",
        "\n",
        "plt.plot(times, a)\n",
        "plt.xlabel('time / yr')\n",
        "plt.ylabel('semi-major axis / au')\n",
        "plt.ylim(0.5, 3.)\n",
        "plt.show()"
      ],
      "execution_count": null,
      "outputs": []
    },
    {
      "cell_type": "markdown",
      "metadata": {
        "id": "fKJvkVOj4o73"
      },
      "source": [
        "## Tidal Drag"
      ]
    },
    {
      "cell_type": "code",
      "metadata": {
        "id": "npO0Z4JJ-Ktt"
      },
      "source": [
        ""
      ],
      "execution_count": null,
      "outputs": []
    }
  ]
}