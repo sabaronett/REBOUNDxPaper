{
  "nbformat": 4,
  "nbformat_minor": 0,
  "metadata": {
    "colab": {
      "name": "colab-demo.ipynb",
      "provenance": [],
      "collapsed_sections": [],
      "authorship_tag": "ABX9TyO4SQ3ErsIEl7WL9gf2CaLl",
      "include_colab_link": true
    },
    "kernelspec": {
      "name": "python3",
      "display_name": "Python 3"
    },
    "language_info": {
      "name": "python"
    }
  },
  "cells": [
    {
      "cell_type": "markdown",
      "metadata": {
        "id": "view-in-github",
        "colab_type": "text"
      },
      "source": [
        "<a href=\"https://colab.research.google.com/github/sabaronett/REBOUNDxPaper/blob/master/colab_demo.ipynb\" target=\"_parent\"><img src=\"https://colab.research.google.com/assets/colab-badge.svg\" alt=\"Open In Colab\"/></a>"
      ]
    },
    {
      "cell_type": "markdown",
      "metadata": {
        "id": "YeSGYDJv1ob0"
      },
      "source": [
        "<h1>REBOUNDx Interactive Demo<h1>\n",
        "\n",
        "*This notebook is designed for [Google Colab](https://colab.research.google.com/github/sabaronett/REBOUNDxPaper/blob/master/colab_demo.ipynb); visit [Welcome To Colaboratory](https://colab.research.google.com/notebooks/intro.ipynb) to learn more.*\n",
        "\n",
        "Below are a few quick, interactive demos of REBOUNDx's new features and effects introduced in [*Baronet et al. (2022)*](https://doi.org/10.1093/mnras/stac043). You can find more resources and example notebooks at our paper's [GitHub repository](https://github.com/sabaronett/REBOUNDxPaper), and at [REBOUND](https://rebound.readthedocs.io/en/latest/) and [REBOUNDx](https://reboundx.readthedocs.io/en/latest/)."
      ]
    },
    {
      "cell_type": "markdown",
      "metadata": {
        "id": "hPEZJUj_4FVv"
      },
      "source": [
        "## Stellar Evolution\n",
        "\n",
        "This example shows how to change a particle's mass by interpolating time-series data during a REBOUND simulation using REBOUNDx. Documentation for this feature can be found [here](https://reboundx.readthedocs.io/en/latest/effects.html#parameter-interpolation) and a more detailed example notebook [here](https://github.com/dtamayo/reboundx/blob/master/ipython_examples/ParameterInterpolation.ipynb).\n",
        "\n",
        "First let's set up a simple Sun-Earth system. \n",
        "\n",
        "*To execute the code in the cell below, select it with a click and then either press the play button to the left of the code, or use the keyboard shortcut \"Command/Ctrl+Enter\". To edit the code, just click the cell and start editing. Anything you define in one cell can later be used in other cells.*"
      ]
    },
    {
      "cell_type": "code",
      "metadata": {
        "id": "rBfuxSea-HVX"
      },
      "source": [
        "!pip install -q rebound\n",
        "import rebound\n",
        "\n",
        "def makesim():\n",
        "  sim = rebound.Simulation()        # create simulation object\n",
        "  sim.units = ('yr', 'AU', 'Msun')  # set sim units\n",
        "  sim.add(m=1.)                     # add Sun (1 Msun)\n",
        "  sim.add(a=1.)                     # add Earth at 1 au\n",
        "  sim.integrator = 'whfast'         # set integrator\n",
        "  \n",
        "  return sim"
      ],
      "execution_count": null,
      "outputs": []
    },
    {
      "cell_type": "markdown",
      "metadata": {
        "id": "P43eHxwVDFP1"
      },
      "source": [
        "Next let's integrate this system as is for 10,000 years and verify Earth's semi-major axis does not change."
      ]
    },
    {
      "cell_type": "code",
      "metadata": {
        "id": "2NLhF_LW43UV"
      },
      "source": [
        "%%time\n",
        "import numpy as np\n",
        "import matplotlib.pyplot as plt\n",
        "\n",
        "sim = makesim()                     # initialize sim\n",
        "ps = sim.particles                  # retrieve array of particle objects\n",
        "Nout = 1000                         # set total # of outputs\n",
        "times = np.linspace(0, 1e4, Nout)   # Nout evenly spaced intervals from 0 to 10K\n",
        "a = np.zeros(Nout)                  # array for Earth's semi-major axis\n",
        "\n",
        "for i, t in enumerate(times):       # loop through times\n",
        "  sim.integrate(t)                  # advance sim to next output time\n",
        "  # ps[0].m = starmass.interpolate(rebx, t) # interpolate & update Sun's mass\n",
        "  a[i] = ps[1].a                    # store Earth's current semi-major axis\n",
        "\n",
        "plt.plot(times, a)                  # plot Earth's semi-major axis vs. time\n",
        "plt.xlabel('time / yr')\n",
        "plt.ylabel('semi-major axis / au')\n",
        "plt.ylim(0.5, 3.)\n",
        "plt.show()"
      ],
      "execution_count": null,
      "outputs": []
    },
    {
      "cell_type": "markdown",
      "metadata": {
        "id": "guceILoVL6Zh"
      },
      "source": [
        "Now let's define a time series of the Sun's mass, consisting of just two equal-sized arrays. The following 5 values correspond to an exponential mass loss rate (e-folding timescale) of $10^4$ years. We then create an `Interpolator` object for the parameter set and pass our arrays as arguments. Before moving on, we plot the mass loss data for good measure."
      ]
    },
    {
      "cell_type": "code",
      "metadata": {
        "id": "AXxKnTgQNMuZ"
      },
      "source": [
        "!pip install -q reboundx\n",
        "import reboundx\n",
        "\n",
        "mtimes = np.asarray([0, 2500, 5000, 7500, 10000])      # define time series\n",
        "masses = np.asarray([1., 0.77880078307, 0.60653065971, # series of masses\n",
        "                     0.47236655274, 0.36787944117])\n",
        "rebx = reboundx.Extras(sim)                            # attach REBOUNDx to sim\n",
        "starmass = reboundx.Interpolator(rebx, mtimes, masses, # create interp. obj.\n",
        "                                 'spline')\n",
        "\n",
        "plt.plot(mtimes, masses, 'o')                          # plot mass loss data\n",
        "plt.xlabel('time / yr')\n",
        "plt.ylabel('mass / Msun')\n",
        "plt.show()"
      ],
      "execution_count": null,
      "outputs": []
    },
    {
      "cell_type": "markdown",
      "metadata": {
        "id": "VmKp8PqwT216"
      },
      "source": [
        "Finally, let's integrate the system again, but this time we update the Sun's mass by interpolating at the output intervals of the loop. To do this, we simply go back to our earlier code cell (two above), uncomment the following line:\n",
        "\n",
        "```python\n",
        "ps[0].m = starmass.interpolate(rebx, t) # interpolate & update Sun's mass\n",
        "```\n",
        "\n",
        "(the second line within the `for` loop), and rerun the cell. Notice the adiabatic expansion of the Earth this time."
      ]
    },
    {
      "cell_type": "markdown",
      "metadata": {
        "id": "fKJvkVOj4o73"
      },
      "source": [
        "## Tides\n",
        "\n",
        "This example shows how to add a constant time lag model (Hut 1981) to tides raised on the primary and/or orbiting bodies using REBOUNDx. Documentation for this feature can be found [here](https://reboundx.readthedocs.io/en/latest/effects.html#tides) and a more detailed example notebook [here](https://github.com/dtamayo/reboundx/blob/master/ipython_examples/TidesConstantTimeLag.ipynb).\n",
        "\n",
        "First we set up a simple Sun-Earth system, but this time we assume our Sun has lost some mass after leaving the main-sequence, and we give our Earth its proper mass and a slightly eccentric orbit."
      ]
    },
    {
      "cell_type": "code",
      "metadata": {
        "id": "keXL4uT4xixk"
      },
      "source": [
        "def makesim():\n",
        "  sim = rebound.Simulation()\n",
        "  sim.units = ('yr', 'AU', 'Msun')\n",
        "  sim.add(m=0.86)                # post-MS Sun\n",
        "  sim.add(m=3.e-6, a=1., e=0.03) # Earth w/ slight eccentricity\n",
        "  sim.integrator = 'whfast'\n",
        "  sim.move_to_com()              # recenter coordinates to center of mass\n",
        "  rebx = reboundx.Extras(sim)    # initialize REBOUNDx\n",
        "  tides = rebx.load_force(\"tides_constant_time_lag\") # load TCTL\n",
        "  rebx.add_force(tides)          # add tidal force\n",
        "  \n",
        "  return sim, rebx, tides"
      ],
      "execution_count": null,
      "outputs": []
    },
    {
      "cell_type": "markdown",
      "metadata": {
        "id": "pzb_AVVozO2K"
      },
      "source": [
        "Next, we set the primary and secondaries' equilibrium gravitational response to the tidal field acting on them through the `tctl_k1`. If we give the primary a physical radius, then any (massive) orbiting body will raise equilibrium tides on the primary. If we add a physical radius and `tctl_k1` to any of the orbiting bodies, the primary will raise tides on that particle (but note that orbiting bodies will not raise tides on one another)."
      ]
    },
    {
      "cell_type": "code",
      "metadata": {
        "id": "YzNiyQABz6Ts"
      },
      "source": [
        "sim, rebx, tides = makesim()\n",
        "ps = sim.particles\n",
        "ps[0].r = 0.85 # Sun's physical radius in au\n",
        "ps[0].params[\"tctl_k1\"] = 0.03"
      ],
      "execution_count": null,
      "outputs": []
    },
    {
      "cell_type": "markdown",
      "metadata": {
        "id": "pwiYaLui0Rg9"
      },
      "source": [
        "If we stop here and don't add a time lag, we will get the instantaneous equilibrium tide, which provides a conservative, radial non-Keplerian potential. The total energy will be conserved, but the pericenter will precess.\n",
        "\n",
        "We integrate for 5000 years and plot Earth's longitude of the pericenter over time."
      ]
    },
    {
      "cell_type": "code",
      "metadata": {
        "id": "eTbk7l4h0VCd"
      },
      "source": [
        "%%time\n",
        "tmax = 5000\n",
        "times = np.linspace(0, tmax, Nout)\n",
        "pomega = np.zeros(Nout)\n",
        "\n",
        "for i, t in enumerate(times):\n",
        "  sim.integrate(t)\n",
        "  pomega[i] = ps[1].pomega          # store Earth's longitude of pericenter\n",
        "\n",
        "plt.plot(times, pomega)             # plot Earth's pericenter precession\n",
        "plt.xlabel('time / yr')\n",
        "plt.ylabel('pericenter')\n",
        "plt.show()"
      ],
      "execution_count": null,
      "outputs": []
    },
    {
      "cell_type": "markdown",
      "metadata": {
        "id": "m_Dgd_O71ueN"
      },
      "source": [
        "Setting the `tctl_tau` constant time lag parameter introduces dissipation, causing eccentricity damping, and will migrate the orbiting bodies either inward or outward depending on whether they orbit faster or slower than the spin of the tidally deformed body. We set the spin rate of each body with the `Omega` parameter. If it is not set, `Omega` is assumed to be zero.\n",
        "\n",
        "Note the bodies' spins are assumed fixed, so consider whether more angular momentum is being changed in the system than is available in the spins! We additionally assume spins are aligned with the reference z axis."
      ]
    },
    {
      "cell_type": "code",
      "metadata": {
        "id": "7LG_oBtd2eyD"
      },
      "source": [
        "sim, rebx, tides = makesim()\n",
        "ps = sim.particles\n",
        "ps[0].r = 0.85                 # au\n",
        "ps[0].params[\"tctl_k1\"] = 0.03 # potential Love number, degree 2\n",
        "ps[0].params[\"tctl_tau\"] = 0.4 # small constant time lag\n",
        "ps[0].params[\"Omega\"] = 0      # 0 by default"
      ],
      "execution_count": null,
      "outputs": []
    },
    {
      "cell_type": "markdown",
      "metadata": {
        "id": "5BVDFaQb3OzZ"
      },
      "source": [
        "Now we integrate this time for 25,000 years and plot Earth's semi-major axis over time."
      ]
    },
    {
      "cell_type": "code",
      "metadata": {
        "id": "iQFLNQgP3V2F"
      },
      "source": [
        "%%time\n",
        "tmax = 2.5e4\n",
        "times = np.linspace(0,tmax,Nout)\n",
        "a, e = np.zeros(Nout), np.zeros(Nout)\n",
        "\n",
        "for i, t in enumerate(times):\n",
        "  sim.integrate(t)\n",
        "  a[i] = ps[1].a        # store Earth's current semi-major axis\n",
        "  e[i] = ps[1].e        # store Earth's current eccentricity\n",
        "\n",
        "plt.plot(times, a)      # plot Earth's semi-major axis\n",
        "plt.xlabel('time / yr')\n",
        "plt.ylabel('semi-major axis')\n",
        "plt.show()"
      ],
      "execution_count": null,
      "outputs": []
    },
    {
      "cell_type": "markdown",
      "metadata": {
        "id": "7uI6PafP32Yd"
      },
      "source": [
        "Finally, we can also plot Earth's eccentricity over time."
      ]
    },
    {
      "cell_type": "code",
      "metadata": {
        "id": "LvsWUiOA35LM"
      },
      "source": [
        "plt.plot(times, e)             # plot Earth's pericenter precession\n",
        "plt.xlabel('time / yr')\n",
        "plt.ylabel('eccentricity')\n",
        "plt.show()"
      ],
      "execution_count": null,
      "outputs": []
    }
  ]
}