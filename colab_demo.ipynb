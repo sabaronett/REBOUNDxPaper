{
  "nbformat": 4,
  "nbformat_minor": 0,
  "metadata": {
    "colab": {
      "name": "colab-demo.ipynb",
      "provenance": [],
      "collapsed_sections": [],
      "authorship_tag": "ABX9TyMGyQ9vJVQayiQGto/gr6iu",
      "include_colab_link": true
    },
    "kernelspec": {
      "name": "python3",
      "display_name": "Python 3"
    },
    "language_info": {
      "name": "python"
    }
  },
  "cells": [
    {
      "cell_type": "markdown",
      "metadata": {
        "id": "view-in-github",
        "colab_type": "text"
      },
      "source": [
        "<a href=\"https://colab.research.google.com/github/sabaronett/REBOUNDxPaper/blob/master/colab_demo.ipynb\" target=\"_parent\"><img src=\"https://colab.research.google.com/assets/colab-badge.svg\" alt=\"Open In Colab\"/></a>"
      ]
    },
    {
      "cell_type": "markdown",
      "metadata": {
        "id": "YeSGYDJv1ob0"
      },
      "source": [
        "<h1>REBOUNDx Interactive Demo<h1>\n",
        "\n",
        "*This notebook is designed for [Google Colab](https://colab.research.google.com/github/sabaronett/REBOUNDxPaper/blob/master/colab_demo.ipynb); visit [Welcome To Colaboratory](https://colab.research.google.com/notebooks/intro.ipynb) to learn more.*\n",
        "\n",
        "Below are a few quick and interactive demos of **REBOUNDx**'s new features and effects introduced in [*Baronet et al. (2021)*](https://arxiv.org/abs/2101.12277). You can find more resources and example notebooks at our paper's [GitHub repository](https://github.com/sabaronett/REBOUNDxPaper), and at [REBOUND](https://rebound.readthedocs.io/en/latest/) and [REBOUNDx](https://reboundx.readthedocs.io/en/latest/)."
      ]
    },
    {
      "cell_type": "markdown",
      "metadata": {
        "id": "hPEZJUj_4FVv"
      },
      "source": [
        "## Stellar Evolution\n",
        "\n",
        "This example shows how to change a particle's mass by interpolating time-series data during a REBOUND simulation.\n",
        "\n",
        "First let's set up a simple Sun-Earth system."
      ]
    },
    {
      "cell_type": "code",
      "metadata": {
        "id": "rBfuxSea-HVX"
      },
      "source": [
        "!pip install -q rebound\n",
        "import rebound\n",
        "\n",
        "def makesim():\n",
        "  sim = rebound.Simulation()        # create simulation object\n",
        "  sim.units = ('yr', 'AU', 'Msun')  # set sim's units\n",
        "  sim.add(m=1.)                     # add Sun (1 Msun)\n",
        "  sim.add(a=1.)                     # add Earth at 1 au\n",
        "  sim.integrator = 'whfast'         # set integrator\n",
        "  return sim"
      ],
      "execution_count": 27,
      "outputs": []
    },
    {
      "cell_type": "markdown",
      "metadata": {
        "id": "P43eHxwVDFP1"
      },
      "source": [
        "Before we change anything, let's integrate this system for 10,000 and verify Earth's semi-major axis does not change."
      ]
    },
    {
      "cell_type": "code",
      "metadata": {
        "colab": {
          "base_uri": "https://localhost:8080/",
          "height": 315
        },
        "id": "gnrHbwKsEkJ0",
        "outputId": "99d9ed28-fdd6-4a3c-f715-62041e9b6e75"
      },
      "source": [
        "%%time\n",
        "import numpy as np\n",
        "import matplotlib.pyplot as plt\n",
        "\n",
        "sim = makesim()                     # initialize sim\n",
        "ps = sim.particles                  # retrieve array of particle objects\n",
        "Nout = 1000                         # set total # of outputs\n",
        "times = np.linspace(0, 1e4, Nout)   # Nout evenly spaced intervals from 0 to 10K\n",
        "a = np.zeros(Nout)                  # array for Earth's semi-major axis\n",
        "\n",
        "for i, t in enumerate(times):       # loop through times\n",
        "  sim.integrate(t)                  # advance sim to next output time\n",
        "  a[i] = ps[1].a                    # store Earth's current semi-major axis\n",
        "\n",
        "plt.plot(times, a)                  # plot Earth's semi-major axis vs. time\n",
        "plt.xlabel('time / yr')\n",
        "plt.ylabel('semi-major axis / au')\n",
        "plt.ylim(0.5, 1.5)\n",
        "plt.show()"
      ],
      "execution_count": 28,
      "outputs": [
        {
          "output_type": "display_data",
          "data": {
            "image/png": "[encoded data removed]",
            "text/plain": [
              "<Figure size 432x288 with 1 Axes>"
            ]
          },
          "metadata": {
            "tags": [],
            "needs_background": "light"
          }
        },
        {
          "output_type": "stream",
          "text": [
            "CPU times: user 4.65 s, sys: 2.6 ms, total: 4.65 s\n",
            "Wall time: 4.65 s\n"
          ],
          "name": "stdout"
        }
      ]
    },
    {
      "cell_type": "markdown",
      "metadata": {
        "id": "guceILoVL6Zh"
      },
      "source": [
        "Now let's define a time series of the Sun's mass, consisting of just two equal-sized arrays. The following 5 values correspond to an exponential mass loss rate (e-folding timescale) of $10^4$ years. We then create an `Interpolator` object for the parameter set and pass our arrays as arguments. Before moving on, we plot the mass loss data for good measure."
      ]
    },
    {
      "cell_type": "code",
      "metadata": {
        "colab": {
          "base_uri": "https://localhost:8080/",
          "height": 441
        },
        "id": "AXxKnTgQNMuZ",
        "outputId": "5b6d4d21-df11-41d6-aa97-4674808f82f2"
      },
      "source": [
        "!pip install reboundx\n",
        "import reboundx\n",
        "\n",
        "sim = makesim()                                        # reinitialize sim\n",
        "rebx = reboundx.Extras(sim)                            # initialize REBOUNDx\n",
        "mtimes = np.asarray([0, 2500, 5000, 7500, 10000])      # define time series\n",
        "masses = np.asarray([1., 0.77880078307, 0.60653065971, # series of masses\n",
        "                     0.47236655274, 0.36787944117])\n",
        "starmass = reboundx.Interpolator(rebx, mtimes, masses, # create interp. obj.\n",
        "                                 'spline')\n",
        "\n",
        "plt.plot(mtimes, masses)                                     # plot mass loss\n",
        "plt.xlabel('time / yr')\n",
        "plt.ylabel('mass / Msun')\n",
        "# plt.ylim(0.5, 1.5)\n",
        "plt.show()"
      ],
      "execution_count": 34,
      "outputs": [
        {
          "output_type": "stream",
          "text": [
            "Requirement already satisfied: reboundx in /usr/local/lib/python3.7/dist-packages (3.2.0)\n",
            "Requirement already satisfied: rebound>=3.10.0 in /usr/local/lib/python3.7/dist-packages (from reboundx) (3.16.0)\n",
            "Requirement already satisfied: numpy in /usr/local/lib/python3.7/dist-packages (from reboundx) (1.19.5)\n"
          ],
          "name": "stdout"
        },
        {
          "output_type": "error",
          "ename": "OSError",
          "evalue": "ignored",
          "traceback": [
            "\u001b[0;31m---------------------------------------------------------------------------\u001b[0m",
            "\u001b[0;31mOSError\u001b[0m                                   Traceback (most recent call last)",
            "\u001b[0;32m<ipython-input-34-953c08082149>\u001b[0m in \u001b[0;36m<module>\u001b[0;34m()\u001b[0m\n\u001b[1;32m      1\u001b[0m \u001b[0mget_ipython\u001b[0m\u001b[0;34m(\u001b[0m\u001b[0;34m)\u001b[0m\u001b[0;34m.\u001b[0m\u001b[0msystem\u001b[0m\u001b[0;34m(\u001b[0m\u001b[0;34m'pip install reboundx'\u001b[0m\u001b[0;34m)\u001b[0m\u001b[0;34m\u001b[0m\u001b[0;34m\u001b[0m\u001b[0m\n\u001b[0;32m----> 2\u001b[0;31m \u001b[0;32mimport\u001b[0m \u001b[0mreboundx\u001b[0m\u001b[0;34m\u001b[0m\u001b[0;34m\u001b[0m\u001b[0m\n\u001b[0m\u001b[1;32m      3\u001b[0m \u001b[0;34m\u001b[0m\u001b[0m\n\u001b[1;32m      4\u001b[0m \u001b[0msim\u001b[0m \u001b[0;34m=\u001b[0m \u001b[0mmakesim\u001b[0m\u001b[0;34m(\u001b[0m\u001b[0;34m)\u001b[0m                                        \u001b[0;31m# reinitialize sim\u001b[0m\u001b[0;34m\u001b[0m\u001b[0;34m\u001b[0m\u001b[0m\n\u001b[1;32m      5\u001b[0m \u001b[0mrebx\u001b[0m \u001b[0;34m=\u001b[0m \u001b[0mreboundx\u001b[0m\u001b[0;34m.\u001b[0m\u001b[0mExtras\u001b[0m\u001b[0;34m(\u001b[0m\u001b[0msim\u001b[0m\u001b[0;34m)\u001b[0m                            \u001b[0;31m# initialize REBOUNDx\u001b[0m\u001b[0;34m\u001b[0m\u001b[0;34m\u001b[0m\u001b[0m\n",
            "\u001b[0;32m/usr/local/lib/python3.7/dist-packages/reboundx/__init__.py\u001b[0m in \u001b[0;36m<module>\u001b[0;34m()\u001b[0m\n\u001b[1;32m     11\u001b[0m \u001b[0mpymodulespath\u001b[0m \u001b[0;34m=\u001b[0m \u001b[0mos\u001b[0m\u001b[0;34m.\u001b[0m\u001b[0mpath\u001b[0m\u001b[0;34m.\u001b[0m\u001b[0mdirname\u001b[0m\u001b[0;34m(\u001b[0m\u001b[0m__file__\u001b[0m\u001b[0;34m)\u001b[0m\u001b[0;34m\u001b[0m\u001b[0;34m\u001b[0m\u001b[0m\n\u001b[1;32m     12\u001b[0m \u001b[0;32mfrom\u001b[0m \u001b[0mctypes\u001b[0m \u001b[0;32mimport\u001b[0m \u001b[0;34m*\u001b[0m\u001b[0;34m\u001b[0m\u001b[0;34m\u001b[0m\u001b[0m\n\u001b[0;32m---> 13\u001b[0;31m \u001b[0mclibreboundx\u001b[0m \u001b[0;34m=\u001b[0m \u001b[0mcdll\u001b[0m\u001b[0;34m.\u001b[0m\u001b[0mLoadLibrary\u001b[0m\u001b[0;34m(\u001b[0m\u001b[0mpymodulespath\u001b[0m \u001b[0;34m+\u001b[0m \u001b[0;34m'/../libreboundx'\u001b[0m \u001b[0;34m+\u001b[0m \u001b[0msuffix\u001b[0m\u001b[0;34m)\u001b[0m\u001b[0;34m\u001b[0m\u001b[0;34m\u001b[0m\u001b[0m\n\u001b[0m\u001b[1;32m     14\u001b[0m \u001b[0;34m\u001b[0m\u001b[0m\n\u001b[1;32m     15\u001b[0m \u001b[0;31m# Version\u001b[0m\u001b[0;34m\u001b[0m\u001b[0;34m\u001b[0m\u001b[0;34m\u001b[0m\u001b[0m\n",
            "\u001b[0;32m/usr/lib/python3.7/ctypes/__init__.py\u001b[0m in \u001b[0;36mLoadLibrary\u001b[0;34m(self, name)\u001b[0m\n\u001b[1;32m    440\u001b[0m \u001b[0;34m\u001b[0m\u001b[0m\n\u001b[1;32m    441\u001b[0m     \u001b[0;32mdef\u001b[0m \u001b[0mLoadLibrary\u001b[0m\u001b[0;34m(\u001b[0m\u001b[0mself\u001b[0m\u001b[0;34m,\u001b[0m \u001b[0mname\u001b[0m\u001b[0;34m)\u001b[0m\u001b[0;34m:\u001b[0m\u001b[0;34m\u001b[0m\u001b[0;34m\u001b[0m\u001b[0m\n\u001b[0;32m--> 442\u001b[0;31m         \u001b[0;32mreturn\u001b[0m \u001b[0mself\u001b[0m\u001b[0;34m.\u001b[0m\u001b[0m_dlltype\u001b[0m\u001b[0;34m(\u001b[0m\u001b[0mname\u001b[0m\u001b[0;34m)\u001b[0m\u001b[0;34m\u001b[0m\u001b[0;34m\u001b[0m\u001b[0m\n\u001b[0m\u001b[1;32m    443\u001b[0m \u001b[0;34m\u001b[0m\u001b[0m\n\u001b[1;32m    444\u001b[0m \u001b[0mcdll\u001b[0m \u001b[0;34m=\u001b[0m \u001b[0mLibraryLoader\u001b[0m\u001b[0;34m(\u001b[0m\u001b[0mCDLL\u001b[0m\u001b[0;34m)\u001b[0m\u001b[0;34m\u001b[0m\u001b[0;34m\u001b[0m\u001b[0m\n",
            "\u001b[0;32m/usr/lib/python3.7/ctypes/__init__.py\u001b[0m in \u001b[0;36m__init__\u001b[0;34m(self, name, mode, handle, use_errno, use_last_error)\u001b[0m\n\u001b[1;32m    362\u001b[0m \u001b[0;34m\u001b[0m\u001b[0m\n\u001b[1;32m    363\u001b[0m         \u001b[0;32mif\u001b[0m \u001b[0mhandle\u001b[0m \u001b[0;32mis\u001b[0m \u001b[0;32mNone\u001b[0m\u001b[0;34m:\u001b[0m\u001b[0;34m\u001b[0m\u001b[0;34m\u001b[0m\u001b[0m\n\u001b[0;32m--> 364\u001b[0;31m             \u001b[0mself\u001b[0m\u001b[0;34m.\u001b[0m\u001b[0m_handle\u001b[0m \u001b[0;34m=\u001b[0m \u001b[0m_dlopen\u001b[0m\u001b[0;34m(\u001b[0m\u001b[0mself\u001b[0m\u001b[0;34m.\u001b[0m\u001b[0m_name\u001b[0m\u001b[0;34m,\u001b[0m \u001b[0mmode\u001b[0m\u001b[0;34m)\u001b[0m\u001b[0;34m\u001b[0m\u001b[0;34m\u001b[0m\u001b[0m\n\u001b[0m\u001b[1;32m    365\u001b[0m         \u001b[0;32melse\u001b[0m\u001b[0;34m:\u001b[0m\u001b[0;34m\u001b[0m\u001b[0;34m\u001b[0m\u001b[0m\n\u001b[1;32m    366\u001b[0m             \u001b[0mself\u001b[0m\u001b[0;34m.\u001b[0m\u001b[0m_handle\u001b[0m \u001b[0;34m=\u001b[0m \u001b[0mhandle\u001b[0m\u001b[0;34m\u001b[0m\u001b[0;34m\u001b[0m\u001b[0m\n",
            "\u001b[0;31mOSError\u001b[0m: librebound.cpython-37m-x86_64-linux-gnu.so: cannot open shared object file: No such file or directory"
          ]
        }
      ]
    },
    {
      "cell_type": "markdown",
      "metadata": {
        "id": "fKJvkVOj4o73"
      },
      "source": [
        "## Tidal Drag"
      ]
    },
    {
      "cell_type": "code",
      "metadata": {
        "id": "npO0Z4JJ-Ktt"
      },
      "source": [
        ""
      ],
      "execution_count": null,
      "outputs": []
    }
  ]
}